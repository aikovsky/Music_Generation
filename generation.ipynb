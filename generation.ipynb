{
 "cells": [
  {
   "cell_type": "code",
   "execution_count": 1,
   "metadata": {},
   "outputs": [
    {
     "name": "stderr",
     "output_type": "stream",
     "text": [
      "Using TensorFlow backend.\n"
     ]
    }
   ],
   "source": [
    "from preprocessing.settings import *\n",
    "from keras.models import load_model\n",
    "import numpy as np\n",
    "from numpy import array\n",
    "import _pickle as pickle\n",
    "import os\n",
    "\n",
    "# import data_processing\n",
    "from preprocessing import chord_model\n",
    "from preprocessing import midi_functions as mf\n",
    "from preprocessing import data_class"
   ]
  },
  {
   "cell_type": "code",
   "execution_count": 39,
   "metadata": {},
   "outputs": [],
   "source": [
    "chord_model_folder = 'models/chords/'   \n",
    "chord_model_name = 'model_Epoch250_4.pickle'\n",
    "\n",
    "melody_model_folder = 'models/chords_mldy/'\n",
    "melody_model_name = 'modelEpoch500.pickle'\n",
    "\n",
    "midi_save_folder = 'predicted_midi/'\n",
    "\n",
    "#'data/' + shift_folder + 'indroll/'\n",
    "seed_path = \"G:/MSc/sem-4/project/temp/JamBot-master/OWN/data/shifted/indroll/2Boys/I Won't Let You Down.mid.pickle\"\n",
    "#'data/' + shift_folder + 'chord_index/'\n",
    "seed_chord_path = \"G:/MSc/sem-4/project/temp/JamBot-master/OWN/data/shifted/chord_index/2Boys/I Won't Let You Down.mid.pickle\"\n",
    "\n",
    "seed_name = \"I Won't Let You Down.mid.pickle\""
   ]
  },
  {
   "cell_type": "code",
   "execution_count": 40,
   "metadata": {},
   "outputs": [],
   "source": [
    "# Parameters for song generation:\n",
    "BPM = 90\n",
    "note_cap = 5\n",
    "chord_temperature = 1\n",
    "\n",
    "# Params for seed:\n",
    "# length of the predicted song in bars:\n",
    "num_bars =64\n",
    "# The first seed_length number of bars from the seed will be used: \n",
    "seed_length = 4\n",
    "\n",
    "#pred_song_length = 8*16-seed_length"
   ]
  },
  {
   "cell_type": "code",
   "execution_count": 41,
   "metadata": {},
   "outputs": [],
   "source": [
    "# data_processing\n",
    "def get_chord_dict():\n",
    "    chord_to_index = pickle.load(open(dict_path + chord_dict_name, 'rb'))\n",
    "    index_to_chord = pickle.load(open(dict_path + index_dict_name, 'rb'))\n",
    "    return chord_to_index, index_to_chord"
   ]
  },
  {
   "cell_type": "code",
   "execution_count": 42,
   "metadata": {},
   "outputs": [],
   "source": [
    "with_seed = True\n",
    "\n",
    "chord_to_index, index_to_chord = get_chord_dict()"
   ]
  },
  {
   "cell_type": "code",
   "execution_count": 43,
   "metadata": {},
   "outputs": [],
   "source": [
    "# chord_to_index, index_to_chord"
   ]
  },
  {
   "cell_type": "code",
   "execution_count": 44,
   "metadata": {},
   "outputs": [],
   "source": [
    "def sample_probability_vector(prob_vector):\n",
    "    # Sample a probability vector, e.g. [0.1, 0.001, 0.5, 0.9]\n",
    "            \n",
    "    sum_probas = sum(prob_vector)\n",
    "    \n",
    "    \n",
    "    if sum_probas > note_cap:\n",
    "        prob_vector = (prob_vector/sum_probas)*note_cap\n",
    "    \n",
    "    note_vector = np.zeros((prob_vector.size), dtype=np.int8)\n",
    "    for i, prob in enumerate(prob_vector):\n",
    "        note_vector[i] = np.random.multinomial(1, [1 - prob, prob])[1]\n",
    "    return note_vector"
   ]
  },
  {
   "cell_type": "code",
   "execution_count": 45,
   "metadata": {},
   "outputs": [
    {
     "name": "stdout",
     "output_type": "stream",
     "text": [
      "I Won't Let You Down.mid.pickle\n"
     ]
    }
   ],
   "source": [
    "def ind_to_onehot(ind):\n",
    "    onehot = np.zeros((len(ind), num_notes))\n",
    "    for i, step in enumerate(ind):\n",
    "        for note in step:\n",
    "            onehot[i,note]=1\n",
    "    return onehot\n",
    "print(seed_name)\n",
    "sd = pickle.load(open(seed_path, 'rb'))[:8*seed_length]\n",
    "seed_chords = pickle.load(open(seed_chord_path, 'rb'))[:seed_length]\n",
    "\n",
    "seed = ind_to_onehot(sd)[:,low_crop:high_crop]"
   ]
  },
  {
   "cell_type": "code",
   "execution_count": 46,
   "metadata": {},
   "outputs": [
    {
     "name": "stdout",
     "output_type": "stream",
     "text": [
      "loading polyphonic model ...\n",
      "loading chord model ...\n"
     ]
    },
    {
     "name": "stderr",
     "output_type": "stream",
     "text": [
      "C:\\Users\\Dax\\AppData\\Local\\Continuum\\anaconda3\\lib\\site-packages\\tensorflow_core\\python\\framework\\indexed_slices.py:424: UserWarning: Converting sparse IndexedSlices to a dense Tensor of unknown shape. This may consume a large amount of memory.\n",
      "  \"Converting sparse IndexedSlices to a dense Tensor of unknown shape. \"\n"
     ]
    }
   ],
   "source": [
    "print('loading polyphonic model ...')\n",
    "melody_model = load_model(melody_model_folder+melody_model_name)\n",
    "melody_model.reset_states()\n",
    "\n",
    "ch_model = chord_model.Chord_Model(\n",
    "        chord_model_folder+chord_model_name,\n",
    "        prediction_mode='sampling',\n",
    "        first_chords=seed_chords,\n",
    "        temperature=chord_temperature)"
   ]
  },
  {
   "cell_type": "code",
   "execution_count": 47,
   "metadata": {},
   "outputs": [
    {
     "name": "stdout",
     "output_type": "stream",
     "text": [
      "[-0.02178893 -0.02834796  0.01632705  0.06109789 -0.04774819  0.06711037\n",
      "  0.00886357  0.01567437  0.04337154  0.04299917]\n",
      "[-0.02178893 -0.02834796  0.01632705  0.06109789 -0.04774819  0.06711037\n",
      "  0.00886357  0.01567437  0.04337154  0.04299917]\n",
      "[-0.02178893 -0.02834796  0.01632705  0.06109789 -0.04774819  0.06711037\n",
      "  0.00886357  0.01567437  0.04337154  0.04299917]\n",
      "[ 0.08988088  0.07731621 -0.12642536 -0.1529983   0.08236459  0.02992695\n",
      " -0.01494367 -0.03369865 -0.18186645  0.15129308]\n",
      "[-0.07797422 -0.04547906  0.10006183  0.01637116 -0.04989265  0.00297065\n",
      "  0.00667679  0.03888008  0.12503724 -0.02752901]\n",
      "[-0.04938662  0.03335866  0.06054105 -0.00894505  0.01407535  0.09018091\n",
      "  0.03531275  0.05795756  0.07534554  0.0715729 ]\n",
      "[-0.07797422 -0.04547906  0.10006183  0.01637116 -0.04989265  0.00297065\n",
      "  0.00667679  0.03888008  0.12503724 -0.02752901]\n",
      "[ 0.16982038  0.08945112  0.12174977  0.16274048  0.0904616  -0.11959809\n",
      " -0.20210303 -0.17346382  0.11172931  0.00828196]\n",
      "[ 0.02351    -0.1068028  -0.08803353 -0.05950893 -0.07264264  0.08265672\n",
      "  0.10508496  0.09393196 -0.08316118 -0.0761297 ]\n",
      "[ 0.06245745  0.0960945  -0.00293368 -0.07454481  0.14496714  0.12806316\n",
      " -0.11191274 -0.00270161 -0.08344757  0.14446148]\n",
      "[ 0.06245745  0.0960945  -0.00293368 -0.07454481  0.14496714  0.12806316\n",
      " -0.11191274 -0.00270161 -0.08344757  0.14446148]\n",
      "[-0.19893634  0.15101646  0.19158964 -0.13912058  0.03930523  0.16935892\n",
      " -0.03165865  0.1847208   0.14813451  0.15969147]\n",
      "[-0.19893634  0.15101646  0.19158964 -0.13912058  0.03930523  0.16935892\n",
      " -0.03165865  0.1847208   0.14813451  0.15969147]\n",
      "[-0.07797422 -0.04547906  0.10006183  0.01637116 -0.04989265  0.00297065\n",
      "  0.00667679  0.03888008  0.12503724 -0.02752901]\n",
      "[ 0.16982038  0.08945112  0.12174977  0.16274048  0.0904616  -0.11959809\n",
      " -0.20210303 -0.17346382  0.11172931  0.00828196]\n",
      "[-0.09218749 -0.08569963  0.07560837  0.208872   -0.22318858 -0.15486926\n",
      "  0.1781284  -0.13421555  0.24162354 -0.14326742]\n",
      "[ 0.03958154 -0.10743797 -0.07183557 -0.08139893 -0.10901215  0.04367859\n",
      "  0.11300257  0.12518477 -0.15703332 -0.15262996]\n",
      "[-0.09218749 -0.08569963  0.07560837  0.208872   -0.22318858 -0.15486926\n",
      "  0.1781284  -0.13421555  0.24162354 -0.14326742]\n",
      "[-0.19893634  0.15101646  0.19158964 -0.13912058  0.03930523  0.16935892\n",
      " -0.03165865  0.1847208   0.14813451  0.15969147]\n",
      "[-0.09218749 -0.08569963  0.07560837  0.208872   -0.22318858 -0.15486926\n",
      "  0.1781284  -0.13421555  0.24162354 -0.14326742]\n",
      "[ 0.16982038  0.08945112  0.12174977  0.16274048  0.0904616  -0.11959809\n",
      " -0.20210303 -0.17346382  0.11172931  0.00828196]\n",
      "[-0.09218749 -0.08569963  0.07560837  0.208872   -0.22318858 -0.15486926\n",
      "  0.1781284  -0.13421555  0.24162354 -0.14326742]\n",
      "[-0.09218749 -0.08569963  0.07560837  0.208872   -0.22318858 -0.15486926\n",
      "  0.1781284  -0.13421555  0.24162354 -0.14326742]\n",
      "[-0.09218749 -0.08569963  0.07560837  0.208872   -0.22318858 -0.15486926\n",
      "  0.1781284  -0.13421555  0.24162354 -0.14326742]\n",
      "[-0.19893634  0.15101646  0.19158964 -0.13912058  0.03930523  0.16935892\n",
      " -0.03165865  0.1847208   0.14813451  0.15969147]\n",
      "[ 0.08650993  0.02643153 -0.01468137 -0.16323344  0.05767779  0.17635453\n",
      "  0.04736581  0.11353481 -0.10649447  0.03548577]\n",
      "[ 0.05654038  0.06313611 -0.11264595 -0.07202838  0.01597823 -0.03935043\n",
      "  0.0510406  -0.06225622 -0.11902082 -0.04246588]\n",
      "[-0.09218749 -0.08569963  0.07560837  0.208872   -0.22318858 -0.15486926\n",
      "  0.1781284  -0.13421555  0.24162354 -0.14326742]\n",
      "[ 0.16982038  0.08945112  0.12174977  0.16274048  0.0904616  -0.11959809\n",
      " -0.20210303 -0.17346382  0.11172931  0.00828196]\n",
      "[ 0.03958154 -0.10743797 -0.07183557 -0.08139893 -0.10901215  0.04367859\n",
      "  0.11300257  0.12518477 -0.15703332 -0.15262996]\n",
      "[ 0.06245745  0.0960945  -0.00293368 -0.07454481  0.14496714  0.12806316\n",
      " -0.11191274 -0.00270161 -0.08344757  0.14446148]\n",
      "[-0.19893634  0.15101646  0.19158964 -0.13912058  0.03930523  0.16935892\n",
      " -0.03165865  0.1847208   0.14813451  0.15969147]\n",
      "[-0.09218749 -0.08569963  0.07560837  0.208872   -0.22318858 -0.15486926\n",
      "  0.1781284  -0.13421555  0.24162354 -0.14326742]\n",
      "[-0.19893634  0.15101646  0.19158964 -0.13912058  0.03930523  0.16935892\n",
      " -0.03165865  0.1847208   0.14813451  0.15969147]\n",
      "[-0.09218749 -0.08569963  0.07560837  0.208872   -0.22318858 -0.15486926\n",
      "  0.1781284  -0.13421555  0.24162354 -0.14326742]\n",
      "[-0.19893634  0.15101646  0.19158964 -0.13912058  0.03930523  0.16935892\n",
      " -0.03165865  0.1847208   0.14813451  0.15969147]\n",
      "[-0.09218749 -0.08569963  0.07560837  0.208872   -0.22318858 -0.15486926\n",
      "  0.1781284  -0.13421555  0.24162354 -0.14326742]\n",
      "[-0.19893634  0.15101646  0.19158964 -0.13912058  0.03930523  0.16935892\n",
      " -0.03165865  0.1847208   0.14813451  0.15969147]\n",
      "[-0.09218749 -0.08569963  0.07560837  0.208872   -0.22318858 -0.15486926\n",
      "  0.1781284  -0.13421555  0.24162354 -0.14326742]\n",
      "[ 0.16982038  0.08945112  0.12174977  0.16274048  0.0904616  -0.11959809\n",
      " -0.20210303 -0.17346382  0.11172931  0.00828196]\n",
      "[-0.09218749 -0.08569963  0.07560837  0.208872   -0.22318858 -0.15486926\n",
      "  0.1781284  -0.13421555  0.24162354 -0.14326742]\n",
      "[-0.06192532 -0.05551575 -0.13373376 -0.0512373  -0.11297565 -0.04197081\n",
      "  0.09113406 -0.02184392 -0.06818445 -0.04239602]\n",
      "[-0.09218749 -0.08569963  0.07560837  0.208872   -0.22318858 -0.15486926\n",
      "  0.1781284  -0.13421555  0.24162354 -0.14326742]\n",
      "[ 0.16982038  0.08945112  0.12174977  0.16274048  0.0904616  -0.11959809\n",
      " -0.20210303 -0.17346382  0.11172931  0.00828196]\n",
      "[-0.09218749 -0.08569963  0.07560837  0.208872   -0.22318858 -0.15486926\n",
      "  0.1781284  -0.13421555  0.24162354 -0.14326742]\n",
      "[-0.06192532 -0.05551575 -0.13373376 -0.0512373  -0.11297565 -0.04197081\n",
      "  0.09113406 -0.02184392 -0.06818445 -0.04239602]\n",
      "[-0.09218749 -0.08569963  0.07560837  0.208872   -0.22318858 -0.15486926\n",
      "  0.1781284  -0.13421555  0.24162354 -0.14326742]\n",
      "[-0.19893634  0.15101646  0.19158964 -0.13912058  0.03930523  0.16935892\n",
      " -0.03165865  0.1847208   0.14813451  0.15969147]\n",
      "[-0.09218749 -0.08569963  0.07560837  0.208872   -0.22318858 -0.15486926\n",
      "  0.1781284  -0.13421555  0.24162354 -0.14326742]\n",
      "[ 0.16982038  0.08945112  0.12174977  0.16274048  0.0904616  -0.11959809\n",
      " -0.20210303 -0.17346382  0.11172931  0.00828196]\n",
      "[-0.09218749 -0.08569963  0.07560837  0.208872   -0.22318858 -0.15486926\n",
      "  0.1781284  -0.13421555  0.24162354 -0.14326742]\n",
      "[-0.19893634  0.15101646  0.19158964 -0.13912058  0.03930523  0.16935892\n",
      " -0.03165865  0.1847208   0.14813451  0.15969147]\n",
      "[-0.19893634  0.15101646  0.19158964 -0.13912058  0.03930523  0.16935892\n",
      " -0.03165865  0.1847208   0.14813451  0.15969147]\n",
      "[-0.19893634  0.15101646  0.19158964 -0.13912058  0.03930523  0.16935892\n",
      " -0.03165865  0.1847208   0.14813451  0.15969147]\n",
      "[-0.09218749 -0.08569963  0.07560837  0.208872   -0.22318858 -0.15486926\n",
      "  0.1781284  -0.13421555  0.24162354 -0.14326742]\n",
      "[ 0.16982038  0.08945112  0.12174977  0.16274048  0.0904616  -0.11959809\n",
      " -0.20210303 -0.17346382  0.11172931  0.00828196]\n",
      "[-0.09218749 -0.08569963  0.07560837  0.208872   -0.22318858 -0.15486926\n",
      "  0.1781284  -0.13421555  0.24162354 -0.14326742]\n",
      "[-0.19893634  0.15101646  0.19158964 -0.13912058  0.03930523  0.16935892\n",
      " -0.03165865  0.1847208   0.14813451  0.15969147]\n",
      "[-0.09218749 -0.08569963  0.07560837  0.208872   -0.22318858 -0.15486926\n",
      "  0.1781284  -0.13421555  0.24162354 -0.14326742]\n",
      "[ 0.16982038  0.08945112  0.12174977  0.16274048  0.0904616  -0.11959809\n",
      " -0.20210303 -0.17346382  0.11172931  0.00828196]\n",
      "[ 0.06245745  0.0960945  -0.00293368 -0.07454481  0.14496714  0.12806316\n",
      " -0.11191274 -0.00270161 -0.08344757  0.14446148]\n",
      "[-0.07797422 -0.04547906  0.10006183  0.01637116 -0.04989265  0.00297065\n",
      "  0.00667679  0.03888008  0.12503724 -0.02752901]\n",
      "[ 0.1327169   0.07204676 -0.13882229 -0.09196418 -0.00382328  0.05000268\n",
      " -0.08252256  0.0324476  -0.07558941  0.06400838]\n",
      "[-0.09218749 -0.08569963  0.07560837  0.208872   -0.22318858 -0.15486926\n",
      "  0.1781284  -0.13421555  0.24162354 -0.14326742]\n",
      "[ 0.16982038  0.08945112  0.12174977  0.16274048  0.0904616  -0.11959809\n",
      " -0.20210303 -0.17346382  0.11172931  0.00828196]\n",
      "[ 0.16982038  0.08945112  0.12174977  0.16274048  0.0904616  -0.11959809\n",
      " -0.20210303 -0.17346382  0.11172931  0.00828196]\n",
      "[ 0.08988088  0.07731621 -0.12642536 -0.1529983   0.08236459  0.02992695\n",
      " -0.01494367 -0.03369865 -0.18186645  0.15129308]\n",
      "[-0.0240942  -0.02752639 -0.04405104 -0.05026109 -0.02927678 -0.02011089\n",
      "  0.06658937  0.00351927 -0.0498346  -0.09036681]\n",
      "[-0.09218749 -0.08569963  0.07560837  0.208872   -0.22318858 -0.15486926\n",
      "  0.1781284  -0.13421555  0.24162354 -0.14326742]\n",
      "[ 0.16982038  0.08945112  0.12174977  0.16274048  0.0904616  -0.11959809\n",
      " -0.20210303 -0.17346382  0.11172931  0.00828196]\n"
     ]
    }
   ],
   "source": [
    "chords = []\n",
    "\n",
    "for i in range((num_bars+2)):\n",
    "    ch_model.predict_next()\n",
    "\n",
    "\n",
    "if chord_embed_method == 'embed':\n",
    "    embedded_chords = ch_model.embed_chords_song(ch_model.song)\n",
    "elif chord_embed_method == 'onehot':\n",
    "    embedded_chords = data_class.make_one_hot_vector(ch_model.song, num_chords)\n",
    "elif chord_embed_method == 'int':\n",
    "    embedded_chords = [[x] for x in ch_model.song]"
   ]
  },
  {
   "cell_type": "code",
   "execution_count": 48,
   "metadata": {},
   "outputs": [],
   "source": [
    "chords = []\n",
    "\n",
    "for j in range((len(ch_model.song)-2)*fs*2):\n",
    "    ind = int(((j+1)/(fs*2)))\n",
    "    if next_chord_feature:\n",
    "        ind2 = int(((j+1)/(fs*2)))+1\n",
    "#        print(j)\n",
    "#        print(ind, ' ', ind2)\n",
    "        chords.append(list(embedded_chords[ind])+list(embedded_chords[ind2]))\n",
    "    else:\n",
    "        chords.append(embedded_chords[ind])\n",
    "\n",
    "#    print(ind)"
   ]
  },
  {
   "cell_type": "code",
   "execution_count": 49,
   "metadata": {},
   "outputs": [],
   "source": [
    "chords=np.array(chords)\n",
    "\n",
    "if counter_feature:\n",
    "    counter = [[0,0,0],[0,0,1],[0,1,0],[0,1,1],[1,0,0],[1,0,1],[1,1,0],[1,1,1]]\n",
    "    counter = np.array(counter*(len(ch_model.song)-2))\n",
    "    chords = np.append(chords, counter, axis=1)\n",
    "\n",
    "\n",
    "seed = np.append(seed, chords[:seed.shape[0]], axis=1)    \n",
    "\n",
    "seed = np.reshape(seed, (seed.shape[0], 1, 1, seed.shape[1]))\n",
    "\n",
    "next_step = None\n",
    "\n",
    "for step in seed:\n",
    "    \n",
    "    next_step = melody_model.predict(step)\n",
    "    \n",
    "    \n",
    "notes = sample_probability_vector(next_step[0])\n",
    "\n",
    "rest = []\n",
    "rest.append(notes)\n",
    "\n",
    "\n",
    "for chord in chords[seed.shape[0]:]:\n",
    "    next_input = np.append(notes, chord, axis=0)\n",
    "    next_input = np.reshape(next_input, (1, 1, next_input.shape[0]))\n",
    "    next_step = melody_model.predict(next_input)\n",
    "    notes = sample_probability_vector(next_step[0])\n",
    "    rest.append(notes)\n",
    "\n",
    "rest = np.array(rest)\n",
    "rest = np.pad(rest, ((0,0),(low_crop,num_notes-high_crop)), mode='constant', constant_values=0)\n",
    "ind = np.nonzero(rest)\n",
    "#rest = np.reshape(rest, (rest.shape[1], rest.shape[0]))\n",
    "#note_ind = mf.pianoroll_to_note_index(rest)\n",
    "#print(ch_model.song)"
   ]
  },
  {
   "cell_type": "code",
   "execution_count": 32,
   "metadata": {},
   "outputs": [],
   "source": [
    "instrument_names = ['Electric Guitar (jazz)', 'Acoustic Grand Piano',\n",
    "'Bright Acoustic Piano', 'Electric Piano 1',\n",
    "'Honky-tonk Piano', 'Glockenspiel',\n",
    "'Acoustic Guitar (nylon)', 'Acoustic Guitar (steel)',\n",
    "'Orchestral Harp', 'String Ensemble 2', 'SynthStrings 1', 'SynthStrings 2']"
   ]
  },
  {
   "cell_type": "code",
   "execution_count": 33,
   "metadata": {},
   "outputs": [],
   "source": [
    "for instrument_name in instrument_names:\n",
    "    mf.pianoroll_to_midi_continous(rest, midi_save_folder, instrument_name, instrument_name, BPM)"
   ]
  },
  {
   "cell_type": "code",
   "execution_count": null,
   "metadata": {},
   "outputs": [],
   "source": [
    "# 50 - 100"
   ]
  },
  {
   "cell_type": "code",
   "execution_count": 17,
   "metadata": {},
   "outputs": [
    {
     "data": {
      "text/plain": [
       "(513, 128)"
      ]
     },
     "execution_count": 17,
     "metadata": {},
     "output_type": "execute_result"
    }
   ],
   "source": [
    "rest.shape"
   ]
  },
  {
   "cell_type": "code",
   "execution_count": 21,
   "metadata": {},
   "outputs": [
    {
     "data": {
      "text/plain": [
       "((1417,), (1417,))"
      ]
     },
     "execution_count": 21,
     "metadata": {},
     "output_type": "execute_result"
    }
   ],
   "source": [
    "ind[0].shape, ind[1].shape"
   ]
  },
  {
   "cell_type": "code",
   "execution_count": 23,
   "metadata": {},
   "outputs": [],
   "source": [
    "rest_index = []\n",
    "for i in rest:\n",
    "    for j in i:\n",
    "        if j != 0:\n",
    "            rest_index.append(j)\n",
    "            "
   ]
  },
  {
   "cell_type": "code",
   "execution_count": 25,
   "metadata": {},
   "outputs": [
    {
     "data": {
      "text/plain": [
       "1417"
      ]
     },
     "execution_count": 25,
     "metadata": {},
     "output_type": "execute_result"
    }
   ],
   "source": [
    "len(rest_index)"
   ]
  },
  {
   "cell_type": "code",
   "execution_count": null,
   "metadata": {},
   "outputs": [],
   "source": [
    "# 500 - 1000"
   ]
  },
  {
   "cell_type": "code",
   "execution_count": 37,
   "metadata": {},
   "outputs": [
    {
     "data": {
      "text/plain": [
       "(513, 128)"
      ]
     },
     "execution_count": 37,
     "metadata": {},
     "output_type": "execute_result"
    }
   ],
   "source": [
    "# NEW\n",
    "\n",
    "rest.shape"
   ]
  },
  {
   "cell_type": "code",
   "execution_count": 38,
   "metadata": {},
   "outputs": [
    {
     "data": {
      "text/plain": [
       "((224,), (224,))"
      ]
     },
     "execution_count": 38,
     "metadata": {},
     "output_type": "execute_result"
    }
   ],
   "source": [
    "ind[0].shape, ind[1].shape"
   ]
  },
  {
   "cell_type": "code",
   "execution_count": 50,
   "metadata": {},
   "outputs": [],
   "source": [
    "# 250 - 500"
   ]
  },
  {
   "cell_type": "code",
   "execution_count": 51,
   "metadata": {},
   "outputs": [
    {
     "data": {
      "text/plain": [
       "(513, 128)"
      ]
     },
     "execution_count": 51,
     "metadata": {},
     "output_type": "execute_result"
    }
   ],
   "source": [
    "rest.shape"
   ]
  },
  {
   "cell_type": "code",
   "execution_count": 52,
   "metadata": {},
   "outputs": [
    {
     "data": {
      "text/plain": [
       "((404,), (404,))"
      ]
     },
     "execution_count": 52,
     "metadata": {},
     "output_type": "execute_result"
    }
   ],
   "source": [
    "ind[0].shape, ind[1].shape"
   ]
  },
  {
   "cell_type": "code",
   "execution_count": null,
   "metadata": {},
   "outputs": [],
   "source": []
  }
 ],
 "metadata": {
  "kernelspec": {
   "display_name": "Python 3",
   "language": "python",
   "name": "python3"
  },
  "language_info": {
   "codemirror_mode": {
    "name": "ipython",
    "version": 3
   },
   "file_extension": ".py",
   "mimetype": "text/x-python",
   "name": "python",
   "nbconvert_exporter": "python",
   "pygments_lexer": "ipython3",
   "version": "3.7.4"
  }
 },
 "nbformat": 4,
 "nbformat_minor": 2
}
